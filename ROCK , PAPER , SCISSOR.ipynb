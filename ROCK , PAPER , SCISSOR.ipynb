{
 "cells": [
  {
   "cell_type": "code",
   "execution_count": 57,
   "metadata": {},
   "outputs": [
    {
     "name": "stdout",
     "output_type": "stream",
     "text": [
      "ROCK(r), PAPER(p) , SCISSOR(s): r\n",
      "r vs r\n",
      "DRAW!\n"
     ]
    }
   ],
   "source": [
    "import numpy as np ##importing the numpy package.\n",
    "inpt = str(input(\"ROCK(r), PAPER(p) , SCISSOR(s): \"))  ##take input from the user.\n",
    "print(inpt , \"vs\" , end = \" \")  ##display the input of the user.\n",
    "\n",
    "\n",
    "##now coding computer's turn.\n",
    "a =np.random.randint(0,3,1) ##using ramdon.randint to generate a random value in between 0-2.\n",
    "if a== 0:\n",
    "    b = \"r\" \n",
    "elif(a==1):\n",
    "    b = \"p\" \n",
    "else:\n",
    "    b = \"s\" \n",
    "print(b)\n",
    "\n",
    "##providing the condition of the win,loose and draw cases.\n",
    "if inpt == b:\n",
    "    print(\"DRAW!\")\n",
    "elif(inpt == 'r' and b == 's'):\n",
    "    print(\"You win!\")\n",
    "elif(inpt == 'r' and b == 'p'):\n",
    "    print(\"You loose!\")\n",
    "elif(inpt == 's' and b == 'P'):\n",
    "    print(\"You win!\")\n",
    "elif(inpt == 's' and b == 'r'):\n",
    "    print(\"You loose!\")\n",
    "elif(inpt == 'p' and b == 'r'):\n",
    "    print(\"You win!\")\n",
    "elif(inpt == 'p' and b == 's'):\n",
    "    print(\"You loose!\")"
   ]
  }
 ],
 "metadata": {
  "kernelspec": {
   "display_name": "Python 3",
   "language": "python",
   "name": "python3"
  }
 },
 "nbformat": 4,
 "nbformat_minor": 2
}
